{
 "cells": [
  {
   "cell_type": "code",
   "execution_count": 37,
   "metadata": {},
   "outputs": [],
   "source": [
    "import wandb\n",
    "wandb.login()\n",
    "\n",
    "import wandb.apis.reports as wr\n",
    "\n",
    "entity = \"vincenttu\"\n",
    "project = \"cicd_and_wandb\"\n",
    "tag = \"baseline\"\n",
    "\n",
    "api = wandb.Api()\n",
    "runs=api.runs(f'{entity}/{project}', {\"tags\": {\"$in\": [tag]}})\n",
    "assert len(runs) == 1, 'There must be exactly one run with the tag \"baseline\"'\n",
    "baseline = runs[0]\n",
    "\n",
    "run_id = \"6kkgbvd5\"\n",
    "report = wr.Report(entity=entity, project=project, title='Tmp Report')"
   ]
  },
  {
   "cell_type": "code",
   "execution_count": 38,
   "metadata": {},
   "outputs": [],
   "source": [
    "blocks = [\n",
    "    wr.PanelGrid(\n",
    "        runsets=[\n",
    "            (\n",
    "                wr.Runset(entity, project, \"Run Comparison\")\n",
    "                .set_filters_with_python_expr(f\"ID in ['{run_id}', '{baseline.id}']\")\n",
    "            )\n",
    "        ],\n",
    "        panels=[\n",
    "            wr.LinePlot(x=\"train/global_step\", y=\"train/loss\", layout={'x': 0, 'y': 0, 'w': 12, 'h': 8}),\n",
    "            wr.LinePlot(x=\"train/global_step\", y=\"eval/loss\", layout={'x': 4, 'y': 0, 'w': 12, 'h': 8}),\n",
    "            wr.RunComparer(diff_only='split', layout={'w': 24, 'h': 15})\n",
    "        ],\n",
    "\n",
    "    )\n",
    "]\n",
    "\n",
    "report.blocks = report.blocks[:1] + blocks + report.blocks[1:]"
   ]
  },
  {
   "cell_type": "code",
   "execution_count": 39,
   "metadata": {},
   "outputs": [
    {
     "data": {
      "text/html": [
       "<iframe src='https://wandb.ai/vincenttu/cicd_and_wandb/reports/Tmp-Report--Vmlldzo2MzA5ODQx?jupyter=true' style='border:none;width:100%;height:1024px;'></iframe>"
      ],
      "text/plain": [
       "Report(project='cicd_and_wandb', entity='vincenttu', title='Tmp Report', description='', width='readable', blocks=[PanelGrid(runsets=[Runset(entity='vincenttu', project='cicd_and_wandb', name='Run Comparison', query='', filters={'$or': [{'$and': [{'name': {'$in': ['6kkgbvd5', 'u04y9784']}}]}]}, order=['-CreatedTimestamp'])], panels=[LinePlot(x='train/global_step', y=['train/loss']), LinePlot(x='train/global_step', y=['eval/loss'])])])"
      ]
     },
     "execution_count": 39,
     "metadata": {},
     "output_type": "execute_result"
    }
   ],
   "source": [
    "report.save()"
   ]
  },
  {
   "cell_type": "code",
   "execution_count": null,
   "metadata": {},
   "outputs": [],
   "source": []
  }
 ],
 "metadata": {
  "kernelspec": {
   "display_name": "base",
   "language": "python",
   "name": "python3"
  },
  "language_info": {
   "codemirror_mode": {
    "name": "ipython",
    "version": 3
   },
   "file_extension": ".py",
   "mimetype": "text/x-python",
   "name": "python",
   "nbconvert_exporter": "python",
   "pygments_lexer": "ipython3",
   "version": "3.10.9"
  }
 },
 "nbformat": 4,
 "nbformat_minor": 2
}
